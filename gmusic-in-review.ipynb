{
 "cells": [
  {
   "cell_type": "code",
   "execution_count": 92,
   "metadata": {},
   "outputs": [],
   "source": [
    "# Fr\n",
    "file_path = './gmusic_activity.json'\n",
    "review_year = 2019"
   ]
  },
  {
   "cell_type": "code",
   "execution_count": 93,
   "metadata": {},
   "outputs": [],
   "source": [
    "import json\n",
    "\n",
    "data = ''\n",
    "with open(file_path) as f:\n",
    "    data = f.read()\n",
    "data = json.loads(data)"
   ]
  },
  {
   "cell_type": "markdown",
   "metadata": {},
   "source": [
    "## What keys we got??"
   ]
  },
  {
   "cell_type": "code",
   "execution_count": 94,
   "metadata": {},
   "outputs": [
    {
     "name": "stdout",
     "output_type": "stream",
     "text": [
      "{'header', 'description', 'subtitles', 'time', 'products', 'titleUrl', 'title'}\n"
     ]
    }
   ],
   "source": [
    "keys = set()\n",
    "for d in data:\n",
    "    keys.update(d.keys())\n",
    "print(keys)"
   ]
  },
  {
   "cell_type": "markdown",
   "metadata": {},
   "source": [
    "## GONNA DEFINE STUFF HERE"
   ]
  },
  {
   "cell_type": "code",
   "execution_count": 95,
   "metadata": {},
   "outputs": [],
   "source": [
    "from collections import Counter, defaultdict\n",
    "from datetime import datetime, time\n",
    "\n",
    "ACTIVITY_LISTEN_PREFIX = 'Listen'\n",
    "ACTIVITY_SKIP_PREFIX = 'Skip'\n",
    "ACTIVITY_SEARCH_PREFIX = 'Search'\n",
    "ACTIVITY_USE_PREFIX = 'Use'\n",
    "ACTIVITY_TYPES = [ACTIVITY_LISTEN_PREFIX, ACTIVITY_SKIP_PREFIX, ACTIVITY_SEARCH_PREFIX, ACTIVITY_USE_PREFIX]\n",
    "\n",
    "SUBTITLE_ACTIVITY = 'Activity'\n",
    "SUBTITLE_LOCATION = 'Location'\n",
    "SUBTITLE_TEMPERATURE = 'Temperature'\n",
    "SUBTITLE_WEATHER = 'Weather'\n",
    "SUBTITLE_SUN = 'Sun'\n",
    "\n",
    "class GoogleMusicActivity:\n",
    "    def __init__(self, **kwargs):\n",
    "        self.description = kwargs.get('description', '')\n",
    "        self.header = kwargs.get('header', '')\n",
    "        self.products = kwargs.get('products', '')\n",
    "        self.title = kwargs.get('title', '')\n",
    "        self.url = kwargs.get('titleUrl', '')\n",
    "        \n",
    "        self._init_subtitles(kwargs.get('subtitles', ''))\n",
    "        time_str = kwargs.get('time', '').rstrip('Z')\n",
    "        if time_str:\n",
    "            self.time = datetime.fromisoformat(time_str)\n",
    "        else:\n",
    "            self.time = time()\n",
    "    \n",
    "    def __repr__(self):\n",
    "        return str(self.__dict__)\n",
    "    \n",
    "    def _init_subtitles(self, subtitles):\n",
    "        self.subtitles = defaultdict(list)\n",
    "        for s in subtitles:\n",
    "            sub = s['name'].split(':')\n",
    "            if len(sub) < 2:\n",
    "                continue\n",
    "            sub_attr = sub[0].strip()\n",
    "            sub_val = sub[1].strip()\n",
    "            self.subtitles[sub_attr].append(sub_val)            \n",
    "            \n",
    "    def get_action(self):\n",
    "        for a in ACTIVITY_TYPES:\n",
    "            if self.title.startswith(a):\n",
    "                return a\n",
    "        \n",
    "        return self.title\n",
    "\n",
    "    def get_activities(self):\n",
    "        return self.subtitles[SUBTITLE_ACTIVITY]\n",
    "    \n",
    "    def get_locations(self):\n",
    "        return self.subtitles[SUBTITLE_LOCATION]\n",
    "    \n",
    "    def get_weather(self):\n",
    "        return self.subtitles[SUBTITLE_WEATHER]\n",
    "    \n",
    "    def get_temperature(self):\n",
    "        return self.subtitles[SUBTITLE_TEMPERATURE]\n",
    "    \n",
    "    def get_sun(self):\n",
    "        return self.subtitles[SUBTITLE_SUN]"
   ]
  },
  {
   "cell_type": "code",
   "execution_count": 96,
   "metadata": {},
   "outputs": [],
   "source": [
    "activities = []\n",
    "for d in data:\n",
    "    activities.append(GoogleMusicActivity(**d))"
   ]
  },
  {
   "cell_type": "markdown",
   "metadata": {},
   "source": [
    "## What actions we got??"
   ]
  },
  {
   "cell_type": "code",
   "execution_count": 97,
   "metadata": {},
   "outputs": [
    {
     "name": "stdout",
     "output_type": "stream",
     "text": [
      "Counter({'Listen': 70146, 'Skip': 26970, 'Use': 1000, 'Search': 398})\n"
     ]
    }
   ],
   "source": [
    "action_counter = Counter()\n",
    "for a in activities:\n",
    "    action_counter[a.get_action()] += 1\n",
    "print(action_counter)"
   ]
  },
  {
   "cell_type": "markdown",
   "metadata": {},
   "source": [
    "## Filter dem actions"
   ]
  },
  {
   "cell_type": "code",
   "execution_count": 98,
   "metadata": {},
   "outputs": [
    {
     "name": "stdout",
     "output_type": "stream",
     "text": [
      "Filtering 98514 actions...\n",
      "Ended up with 24235 actions\n"
     ]
    }
   ],
   "source": [
    "print(f'Filtering {len(activities)} actions...')\n",
    "activities = [a for a in activities if a.time.year == review_year]\n",
    "activities = [a for a in activities if a.get_action() == ACTIVITY_LISTEN_PREFIX]\n",
    "print(f'Ended up with {len(activities)} actions')"
   ]
  },
  {
   "cell_type": "markdown",
   "metadata": {},
   "source": [
    "## What subtitles we got??"
   ]
  },
  {
   "cell_type": "code",
   "execution_count": 99,
   "metadata": {},
   "outputs": [
    {
     "name": "stdout",
     "output_type": "stream",
     "text": [
      "{'name'}\n"
     ]
    }
   ],
   "source": [
    "keys = set()\n",
    "for d in data:\n",
    "    if not 'subtitles' in d:\n",
    "        continue\n",
    "    for s in d['subtitles']:\n",
    "        keys.update(s.keys())\n",
    "print(keys)"
   ]
  },
  {
   "cell_type": "code",
   "execution_count": 100,
   "metadata": {},
   "outputs": [
    {
     "data": {
      "text/plain": [
       "Counter({'Served location and activity-based recommendations': 7819,\n",
       "         'Location: Airport': 36,\n",
       "         'Activity: Leisure': 7161,\n",
       "         'Activity: Traveling': 26,\n",
       "         'Activity: Standing still': 6160,\n",
       "         'Activity: In flight': 36,\n",
       "         'Temperature: Cool': 6141,\n",
       "         'Weather: Overcast': 5144,\n",
       "         'Temperature: Warm': 8899,\n",
       "         'Weather: Clear': 7806,\n",
       "         'Location: Bar': 102,\n",
       "         'Activity: On foot': 198,\n",
       "         'Weather: Rain': 110,\n",
       "         'Activity: Eating': 71,\n",
       "         'Served location-based recommendations': 7221,\n",
       "         'Weather: Partly cloudy': 1937,\n",
       "         'Sun: Sunset': 995,\n",
       "         'Activity: Commuting': 207,\n",
       "         'Activity: In a vehicle': 37,\n",
       "         'Location: School': 5,\n",
       "         'Location: Mall': 4,\n",
       "         'Activity: Shopping': 4,\n",
       "         'Location: Transit station': 69})"
      ]
     },
     "execution_count": 100,
     "metadata": {},
     "output_type": "execute_result"
    }
   ],
   "source": [
    "subtitles = Counter()\n",
    "for d in data:\n",
    "    if not 'subtitles' in d:\n",
    "        continue\n",
    "    for s in d['subtitles']:\n",
    "        subtitles[s['name']] += 1\n",
    "subtitles"
   ]
  },
  {
   "cell_type": "code",
   "execution_count": 101,
   "metadata": {},
   "outputs": [],
   "source": [
    "import matplotlib.pyplot as plt\n",
    "\n",
    "def plot_counter(counter, title=''):\n",
    "    fig, ax = plt.subplots()\n",
    "    plt.title(title)\n",
    "    plt.xticks(rotation=45)\n",
    "    \n",
    "    sorted_counter = counter.most_common()\n",
    "    x = [v[0] for v in sorted_counter]\n",
    "    y = [v[1] for v in sorted_counter]\n",
    "    plt.bar(x, y)"
   ]
  },
  {
   "cell_type": "code",
   "execution_count": 102,
   "metadata": {},
   "outputs": [
    {
     "name": "stdout",
     "output_type": "stream",
     "text": [
      "Activity histogram for 24235 data points\n"
     ]
    },
    {
     "data": {
      "image/png": "[encoded data removed]",
      "text/plain": [
       "<Figure size 432x288 with 1 Axes>"
      ]
     },
     "metadata": {
      "needs_background": "light"
     },
     "output_type": "display_data"
    },
    {
     "data": {
      "image/png": "[encoded data removed]",
      "text/plain": [
       "<Figure size 432x288 with 1 Axes>"
      ]
     },
     "metadata": {
      "needs_background": "light"
     },
     "output_type": "display_data"
    },
    {
     "data": {
      "image/png": "[encoded data removed]",
      "text/plain": [
       "<Figure size 432x288 with 1 Axes>"
      ]
     },
     "metadata": {
      "needs_background": "light"
     },
     "output_type": "display_data"
    },
    {
     "data": {
      "image/png": "[encoded data removed]",
      "text/plain": [
       "<Figure size 432x288 with 1 Axes>"
      ]
     },
     "metadata": {
      "needs_background": "light"
     },
     "output_type": "display_data"
    },
    {
     "data": {
      "image/png": "[encoded data removed]",
      "text/plain": [
       "<Figure size 432x288 with 1 Axes>"
      ]
     },
     "metadata": {
      "needs_background": "light"
     },
     "output_type": "display_data"
    }
   ],
   "source": [
    "activity_counter = Counter()\n",
    "location_counter = Counter()\n",
    "weather_counter = Counter()\n",
    "temp_counter = Counter()\n",
    "sun_counter = Counter()\n",
    "for a in activities:\n",
    "    for ac in a.get_activities():\n",
    "        activity_counter[ac] += 1\n",
    "    for l in a.get_locations():\n",
    "        location_counter[l] += 1\n",
    "    for w in a.get_weather():\n",
    "        weather_counter[w] += 1\n",
    "    for t in a.get_temperature():\n",
    "        temp_counter[t] += 1\n",
    "    for s in a.get_sun():\n",
    "        sun_counter[s] += 1\n",
    "\n",
    "plot_counter(activity_counter, title='Songs by Activity')\n",
    "plot_counter(location_counter, title='Songs by Location')\n",
    "plot_counter(weather_counter, title='Songs by Weather')\n",
    "plot_counter(temp_counter, title='Songs by Temperature')\n",
    "plot_counter(sun_counter, title='Songs by Sun')\n",
    "print(f'Activity histogram for {len(activities)} data points')"
   ]
  },
  {
   "cell_type": "code",
   "execution_count": 103,
   "metadata": {},
   "outputs": [],
   "source": [
    "## TODO: Top genres/artists, playtime, etc"
   ]
  },
  {
   "cell_type": "code",
   "execution_count": null,
   "metadata": {},
   "outputs": [],
   "source": []
  }
 ],
 "metadata": {
  "kernelspec": {
   "display_name": "Python 3",
   "language": "python",
   "name": "python3"
  },
  "language_info": {
   "codemirror_mode": {
    "name": "ipython",
    "version": 3
   },
   "file_extension": ".py",
   "mimetype": "text/x-python",
   "name": "python",
   "nbconvert_exporter": "python",
   "pygments_lexer": "ipython3",
   "version": "3.8.0"
  }
 },
 "nbformat": 4,
 "nbformat_minor": 4
}
